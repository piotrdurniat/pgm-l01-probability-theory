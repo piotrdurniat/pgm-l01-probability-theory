{
 "cells": [
  {
   "cell_type": "markdown",
   "id": "02db4218",
   "metadata": {},
   "source": [
    "Przed oddaniem zadania upewnij się, że wszystko działa poprawnie.\n",
    "**Uruchom ponownie kernel** (z paska menu: Kernel$\\rightarrow$Restart) a następnie\n",
    "**wykonaj wszystkie komórki** (z paska menu: Cell$\\rightarrow$Run All).\n",
    "\n",
    "Upewnij się, że wypełniłeś wszystkie pola `TU WPISZ KOD` lub `TU WPISZ ODPOWIEDŹ`, oraz\n",
    "że podałeś swoje imię i nazwisko poniżej:\n"
   ]
  },
  {
   "cell_type": "code",
   "execution_count": null,
   "id": "8d65f7ca",
   "metadata": {},
   "outputs": [],
   "source": [
    "NAME = \"Piotr Durniat\""
   ]
  },
  {
   "cell_type": "markdown",
   "id": "abe1999d",
   "metadata": {},
   "source": [
    "---\n"
   ]
  },
  {
   "cell_type": "markdown",
   "id": "24020fa8",
   "metadata": {},
   "source": []
  },
  {
   "cell_type": "markdown",
   "id": "demonstrated-expression",
   "metadata": {},
   "source": [
    "# Wprowadzenie do programowania probabilistycznego\n",
    "\n",
    "W tym notebooku zawarte są zadania wprowadzające do rachunku prawdopodobieństwa i statystyki w środowisku python oraz programowania probabilistycznego.\n"
   ]
  },
  {
   "cell_type": "markdown",
   "id": "52d6dd53",
   "metadata": {},
   "source": []
  },
  {
   "cell_type": "markdown",
   "id": "selective-holmes",
   "metadata": {},
   "source": [
    "## Rachunek prawdopodobieństwa\n",
    "\n",
    "Rachunek prawdopodobieństwa, czyli dział matematyki zajmujący się niepewnością i losowością, stanowi podstawę rozpoznawania wzorców. Umożliwia on ujęcie ilościowe niepewności wynikającej np. z szumów występujących w danych lub też ograniczonej ich ilości, dzięki czemu możemy wykonywać predykcje na podstawie danych, które są niekompletne lub niejednoznaczne.\n",
    "\n",
    "W zadaniu będziemy posługiwać się przykładem. Wyobraźmy sobie dwa pudełka: jedno czerwone i jedno niebieskie. Czerwone pudełko zawiera w sobie 4 jabłka i 6 pomarańczy, natomiast niebieskie zawiera 7 jabłek i 3 pomarańcze. Załóżmy, że:\n",
    "\n",
    "- losowo wybieramy jedno z pudełek i z tego pudełka losowo wybieramy owoc, a po zaobserwowaniu co to za owoc, zwracamy go do pudełka\n",
    "- czerwone pudełko wybieramy 30% razy, a niebieskie 70% razy\n",
    "- szansa na wybór każdego z owoców jest taka sama\n",
    "\n",
    "W tym przykładzie, wybór pudełka jest **zmienną losową**; oznaczmy ją jako $B$. Zmienna ta może przyjmować dwie wartości: $B=r$ (czerwone pudełko) albo $B=b$ (niebieskie pudełko). Analogicznie, wybór owocu jest również zmienną losową; oznaczmy ją jako $F$ - wówczas $F=a$ oznacza wybór jabłka, a $F=o$ oznacza wybór pomarańczy.\n",
    "\n",
    "Prawdopodobieństwo wyboru czerwonego pudełka wynosi $\\Pr(B=r) = 0.3$, natomiast prawdopodobieństwo wyboru niebieskiego pudełka to $\\Pr(B=b) = 0.7$. Są to zdarzenia rozłączne oraz obejmują wszystkie możliwe wyniki, zatem suma prawdopodobieństw ich wystąpienia wynosi $\\Pr(B=r) + \\Pr(B=b) = 1$.\n"
   ]
  },
  {
   "cell_type": "markdown",
   "id": "fifty-louisville",
   "metadata": {},
   "source": [
    "### Zadanie 1.1a (0,25 p.)\n",
    "\n",
    "Załóżmy, że powtarzamy powyższy schemat czterokrotnie w celu wylosowania czterech owoców (kolejność nie jest istotna). Podaj przestrzeń zdarzeń elementarnych dla doświadczenia losowego. Zapisz ją w formie listy krotek odpowiednich znaków (np. `[(\"a\", \"b\"), (\"c\", \"d\")]` i przypisz do zmiennej `space_1`.\n"
   ]
  },
  {
   "cell_type": "code",
   "execution_count": 11,
   "id": "whole-withdrawal",
   "metadata": {
    "deletable": false,
    "nbgrader": {
     "cell_type": "code",
     "checksum": "749ee6d157b8776187f0c40ea74adfcf",
     "grade": false,
     "grade_id": "sample_space_1",
     "locked": false,
     "schema_version": 3,
     "solution": true,
     "task": false
    }
   },
   "outputs": [],
   "source": [
    "# \"a\" - apple\n",
    "# \"o\" - orange\n",
    "space_1 = [\n",
    "    (\"a\", \"a\", \"a\", \"a\"),\n",
    "    (\"a\", \"a\", \"a\", \"o\"),\n",
    "    (\"a\", \"a\", \"o\", \"a\"),\n",
    "    (\"a\", \"a\", \"o\", \"o\"),\n",
    "    (\"a\", \"o\", \"a\", \"a\"),\n",
    "    (\"a\", \"o\", \"a\", \"o\"),\n",
    "    (\"a\", \"o\", \"o\", \"a\"),\n",
    "    (\"a\", \"o\", \"o\", \"o\"),\n",
    "    (\"o\", \"a\", \"a\", \"a\"),\n",
    "    (\"o\", \"a\", \"a\", \"o\"),\n",
    "    (\"o\", \"a\", \"o\", \"a\"),\n",
    "    (\"o\", \"a\", \"o\", \"o\"),\n",
    "    (\"o\", \"o\", \"a\", \"a\"),\n",
    "    (\"o\", \"o\", \"a\", \"o\"),\n",
    "    (\"o\", \"o\", \"o\", \"a\"),\n",
    "    (\"o\", \"o\", \"o\", \"o\"),\n",
    "]"
   ]
  },
  {
   "cell_type": "code",
   "execution_count": 12,
   "id": "express-frank",
   "metadata": {
    "deletable": false,
    "editable": false,
    "nbgrader": {
     "cell_type": "code",
     "checksum": "c0e4a6d7c8c35e6391d95e79547dd187",
     "grade": true,
     "grade_id": "sample_space_1_test",
     "locked": true,
     "points": 0.25,
     "schema_version": 3,
     "solution": false,
     "task": false
    }
   },
   "outputs": [],
   "source": [
    "assert type(space_1) == list\n",
    "for sample in space_1:\n",
    "    assert type(sample) == tuple\n",
    "    assert len(sample) == 4\n",
    "    for item in sample:\n",
    "        assert type(item) == str\n",
    "        assert len(item) == 1\n",
    "        assert item in {\"a\", \"o\", \"b\", \"r\"}"
   ]
  },
  {
   "cell_type": "markdown",
   "id": "suspected-controversy",
   "metadata": {},
   "source": [
    "### Zadanie 1.1b (0,25 p.)\n",
    "\n",
    "Drugie z doświadczeń polega na wylosowaniu pary ${B, F}$: najpierw losujemy pudełko, a następnie losujemy z niego owoc. Podaj przestrzeń zdarzeń dla tak zdefiniowanego doświadczenia losowego. Zapisz je w postaci listy krotek (np. `[(\"a\", \"b\"), (\"c\", \"d\")]` i przypisz do zmiennej `space_2`.\n"
   ]
  },
  {
   "cell_type": "code",
   "execution_count": 16,
   "id": "complex-bearing",
   "metadata": {
    "deletable": false,
    "nbgrader": {
     "cell_type": "code",
     "checksum": "10fa899c64f9f731ff085f475eb564c7",
     "grade": false,
     "grade_id": "sample_space_2",
     "locked": false,
     "schema_version": 3,
     "solution": true,
     "task": false
    }
   },
   "outputs": [],
   "source": [
    "# B (Box):\n",
    "# - \"b\" - blue\n",
    "# - \"r\" - red\n",
    "\n",
    "# F (Fruit):\n",
    "# - \"a\" - apple\n",
    "# - \"o\" - orange\n",
    "\n",
    "space_2 = [\n",
    "    (\"b\", \"a\"),\n",
    "    (\"b\", \"o\"),\n",
    "    (\"r\", \"a\"),\n",
    "    (\"r\", \"o\"),\n",
    "]"
   ]
  },
  {
   "cell_type": "code",
   "execution_count": 17,
   "id": "short-paint",
   "metadata": {
    "deletable": false,
    "editable": false,
    "nbgrader": {
     "cell_type": "code",
     "checksum": "7c24dd7432835b121dc522e825981cc3",
     "grade": true,
     "grade_id": "sample_space_2_test",
     "locked": true,
     "points": 0.25,
     "schema_version": 3,
     "solution": false,
     "task": false
    }
   },
   "outputs": [],
   "source": [
    "assert type(space_2) == list\n",
    "for sample in space_2:\n",
    "    assert type(sample) == tuple\n",
    "    assert len(sample) == 2\n",
    "    assert sample[0] in {\"r\", \"b\"}\n",
    "    assert sample[1] in {\"a\", \"o\"}\n",
    "    assert all(type(item) == str for item in sample)"
   ]
  },
  {
   "cell_type": "markdown",
   "id": "standing-memorabilia",
   "metadata": {},
   "source": [
    "Uogólniając powyższy przykład, rozważmy dwie zmienne losowe $X$ i $Y$. Zmienna $X$ może przyjąć dowolną wartość $x \\in \\{x_1, x_2, \\ldots, x_M\\}$, a zmienna $Y$ może przyjąć wartości $y \\in \\{y_i, y_2, \\ldots, y_L\\}$. Rozważmy, że $N$ razy próbkujemy wartości obu zmiennych $X$ i $Y$; liczba prób, w których $X=x_i$ i $Y=y_j$ wynosi $n_{ij}$. Ponadto, załózmy, że liczba przypadków, gdzie $X$ przyjmuje wartość $x_i$ (bez względu na wartość $Y$) to $c_i$; analogicznie liczba prób, gdy $Y=y_j$ oznaczamy przez $r_j$.\n",
    "\n",
    "**Prawdopodobieństwo łączne**, tzn. prawdopodobieństwo, że zmienna $X$ przyjmie wartość $x_i$ oraz że $Y$ przyjmie wartość $y_j$ definiuje się jako:\n",
    "\n",
    "$$\\Pr(X=x_i, Y=y_j) = \\frac{n_{ij}}{N}\\tag{1}$$\n",
    "\n",
    "Implicite rozważamy tu granicę przy $N\\rightarrow\\infty$. Analogicznie, **prawdopodobieństwo brzegowe**, tzn. prawdopodobieństwo, że $X$ przyjmuje wartość $x_i$ bez względu na wartość $Y$ można zapisać jako:\n",
    "\n",
    "$$\\Pr(X=x_i) = \\frac{c_i}{N}\\tag{2}$$\n"
   ]
  },
  {
   "cell_type": "markdown",
   "id": "ceramic-diagram",
   "metadata": {},
   "source": [
    "### Zadanie 1.2 (0,25 p.)\n",
    "\n",
    "W doświadczeniu losowym z pudełkami i owocami, rozpisz liczby wystąpień każdego z przypadków w tablicy dwudzielczej, które dadzą określone wcześniej prawdopodobieństwa, przekształcając powyższe wzory i przypisując odpowiednie wartości do zmiennych zadeklarowanych w tablicy. Tablica dwudzielcza to tabela przedstawiająca łączny rozkład dwóch zmiennych: każda komórka zawiera liczbę wystąpień kombinacji wartości zmiennych. Załóż, że wykonano $N=100$ prób.\n",
    "\n",
    "| B / F | B=r            | B=b            |                      |\n",
    "| ----- | -------------- | -------------- | -------------------- |\n",
    "| F=a   | `n_ra`         | `n_ba`         | $$\\sum_B=r_a$$       |\n",
    "| F=o   | `n_ro`         | `n_bo`         | $$\\sum_B=r_o$$       |\n",
    "|       | $$\\sum_F=c_r$$ | $$\\sum_F=c_b$$ | $$\\sum_B\\sum_F = N$$ |\n"
   ]
  },
  {
   "cell_type": "code",
   "execution_count": 19,
   "id": "multiple-dispatch",
   "metadata": {
    "deletable": false,
    "nbgrader": {
     "cell_type": "code",
     "checksum": "8be5ad6e71a0333c88967316e454ac03",
     "grade": false,
     "grade_id": "crosstab",
     "locked": false,
     "schema_version": 3,
     "solution": true,
     "task": false
    }
   },
   "outputs": [],
   "source": [
    "p_r = 0.3\n",
    "p_b = 0.7\n",
    "\n",
    "# Probability of picking an apple if the box is red\n",
    "p_a_if_r = 0.4\n",
    "p_o_if_r = 0.6\n",
    "\n",
    "p_a_if_b = 0.7\n",
    "p_o_if_b = 0.3\n",
    "\n",
    "n = 100\n",
    "\n",
    "n_ra = p_r * p_a_if_r * n\n",
    "n_ro = p_r * p_o_if_r * n\n",
    "n_ba = p_b * p_a_if_b * n\n",
    "n_bo = p_b * p_o_if_b * n"
   ]
  },
  {
   "cell_type": "code",
   "execution_count": 15,
   "id": "blocked-cleanup",
   "metadata": {
    "deletable": false,
    "editable": false,
    "nbgrader": {
     "cell_type": "code",
     "checksum": "3e40538efd41898eeaa7bde6aea825dd",
     "grade": true,
     "grade_id": "crosstab_tests",
     "locked": true,
     "points": 0.25,
     "schema_version": 3,
     "solution": false,
     "task": false
    }
   },
   "outputs": [],
   "source": [
    "assert n_ra + n_ro + n_ba + n_bo == 100"
   ]
  },
  {
   "cell_type": "markdown",
   "id": "supported-creek",
   "metadata": {},
   "source": [
    "Marginalizacja polega na przejściu z rozkładu łącznego na rozkład brzegowy. Patrząc na tablicę dwudzielną, polega ona na zsumowaniu liczby wystąpień w wierszach albo kolumnach i podzieleniu przez całkowitą liczbę próbek (**reguła brzegowa**).\n",
    "\n",
    "$$\\Pr(X=x_i) = \\sum_{j=1}^L \\Pr(X=x_i, Y=y_j)\\tag{3}$$\n",
    "\n",
    "Jeżeli rozważymy przykłady, dla których $X=x_i$, wówczas część spośród nich, dla których $Y=y_j$ określa się mianem **prawdopodbieństwa warunkowego**:\n",
    "\n",
    "$$\\Pr(Y=y_j \\mid X=x_i) = \\frac{n_{ij}}{c_i}\\tag{4}$$\n",
    "\n",
    "Stąd też wynika zależność - **reguła łańcuchowa**:\n",
    "\n",
    "$$\\Pr(X=x_i, Y=y_j) = \\frac{n_{ij}}{N} = \\frac{n_{ij}}{c_i} \\frac{c_i}{N} = \\Pr(Y=y_j \\mid X=x_i)\\Pr(X=x_i)\\tag{5}$$\n"
   ]
  },
  {
   "cell_type": "markdown",
   "id": "brazilian-conditions",
   "metadata": {},
   "source": [
    "### Zadanie 1.3 (0,25 p.)\n",
    "\n",
    "Oblicz wartości prawdopodobieństwa warunkowego dla wcześniejszego doświadczenia losowego:\n",
    "\n",
    "| prawdopodobieństwo    | zmienna   |\n",
    "| --------------------- | --------- |\n",
    "| $$\\Pr(F=a \\mid B=r)$$ | `p_fa_br` |\n",
    "| $$\\Pr(F=o \\mid B=r)$$ | `p_fo_br` |\n",
    "| $$\\Pr(F=a \\mid B=b)$$ | `p_fa_bb` |\n",
    "| $$\\Pr(F=o \\mid B=b)$$ | `p_fo_bb` |\n",
    "| $$\\Pr(B=r \\mid F=a)$$ | `p_br_fa` |\n",
    "| $$\\Pr(B=b \\mid F=a)$$ | `p_bb_fa` |\n",
    "| $$\\Pr(B=r \\mid F=o)$$ | `p_br_fo` |\n",
    "| $$\\Pr(B=b \\mid F=o)$$ | `p_bb_fo` |\n"
   ]
  },
  {
   "cell_type": "code",
   "execution_count": 6,
   "id": "taken-adolescent",
   "metadata": {
    "deletable": false,
    "nbgrader": {
     "cell_type": "code",
     "checksum": "081b8e848a6abf5627b19ca0dfbb4453",
     "grade": false,
     "grade_id": "conditional_probs",
     "locked": false,
     "schema_version": 3,
     "solution": true,
     "task": false
    }
   },
   "outputs": [],
   "source": [
    "c_r = n_ra + n_ro\n",
    "c_b = n_ba + n_bo\n",
    "\n",
    "r_a = n_ra + n_ba\n",
    "r_o = n_ro + n_bo\n",
    "\n",
    "p_fa_br = n_ra / c_r\n",
    "p_fo_br = n_ro / c_r\n",
    "p_fa_bb = n_ba / c_b\n",
    "p_fo_bb = n_bo / c_b\n",
    "p_br_fa = n_ra / r_a\n",
    "p_bb_fa = n_ba / r_a\n",
    "p_br_fo = n_ro / r_o\n",
    "p_bb_fo = n_bo / r_o"
   ]
  },
  {
   "cell_type": "code",
   "execution_count": 7,
   "id": "divine-electric",
   "metadata": {
    "deletable": false,
    "editable": false,
    "nbgrader": {
     "cell_type": "code",
     "checksum": "7bb70f9dc2e72e9b457295ebd82d23e4",
     "grade": true,
     "grade_id": "conditional_probs_test",
     "locked": true,
     "points": 0.25,
     "schema_version": 3,
     "solution": false,
     "task": false
    }
   },
   "outputs": [],
   "source": [
    "# testy ukryte"
   ]
  },
  {
   "cell_type": "markdown",
   "id": "musical-clinic",
   "metadata": {},
   "source": [
    "Przekształcając równanie reguły łańcuchowej $(5)$ oraz reguły brzegowej $(3)$ oraz wykorzystując właściwość, że $\\Pr(X, Y) = \\Pr(Y, X)$, uzyskujemy zależność pomiędzy prawdopodobieństwami warunkowymi:\n",
    "\n",
    "$$\\Pr(Y \\mid X) = \\frac{\\Pr(X \\mid Y) \\Pr(Y)}{\\Pr(X)}\\tag{6}$$\n",
    "\n",
    "Zależność ta nazywana jest **regułą Bayesa** i pełni ona centralną rolę w probabilistycznym uczeniu maszynowym. Wykorzystując ponownie regułę brzegową $(3)$, mianownik równania $(6)$ można przedstawić w postaci:\n",
    "\n",
    "$$\\Pr(X) = \\sum_Y \\Pr(X \\mid Y) \\Pr(Y)\\tag{7}$$\n",
    "\n",
    "Można go zatem potraktować jako \"stałą normalizującą\", gwarantującą, że prawdopodobieństwo warunkowe $\\Pr(Y \\mid X)$ sumuje się do $1$.\n"
   ]
  },
  {
   "cell_type": "markdown",
   "id": "daily-newman",
   "metadata": {},
   "source": [
    "### Zadanie 1.4 (0,5 p.)\n",
    "\n",
    "Test diagnostyczny dotyczący pewnej choroby ma następujące parametry:\n",
    "\n",
    "- jeżeli pacjent jest chory ($Y=1$), to prawdopodobieństwo, że test diagnostyczny dał wynik pozytywny ($X=1$) wynosi $0.9$ (_czułość testu_ - stosunek wyników prawdziwie dodatnich do sumy prawdziwie dodatnich i fałszywie ujemnych)\n",
    "- prawdopodobieństwo że osoba jest chora na tę chorobę ($Y=1$) wynosi $0.014$\n",
    "- jeżeli pacjent nie jest chory ($Y=0$), to prawdopodobieństwo, że test dał wynik negatywny ($X=0$) wynosi $0.97$ (_swoistość testu_ - stosunek wyników prawdziwie ujemnych od sumy prawdziwie ujemnych i fałszywie dodatnich)\n",
    "\n",
    "1. Zapisz te prawdopodobieństwa używając notacji matematycznej\n",
    "1. Wyprowadź równania potrzebne do obliczenia prawdopodobieństwa, że pacjent jest chory, jeżeli test wyszedł pozytywny; oblicz to prawdopodobieństwo\n",
    "\n",
    "Zapisz wynik w zmiennej `p_y1_x1`.\n"
   ]
  },
  {
   "cell_type": "markdown",
   "id": "positive-mouth",
   "metadata": {
    "deletable": false,
    "nbgrader": {
     "cell_type": "markdown",
     "checksum": "6995cc062a02da3f0a5bdf7fa3007d37",
     "grade": true,
     "grade_id": "bayes_maths",
     "locked": false,
     "points": 0.25,
     "schema_version": 3,
     "solution": true,
     "task": false
    }
   },
   "source": [
    "- $P(X=1\\mid  Y=1) = 0.9$\n",
    "- $P(Y=1) = 0.014$\n",
    "- $P(X=0\\mid  Y=0) = 0.97$\n",
    "\n",
    "Z prawa całkowitego prawdopodobieństwa:\n",
    "\n",
    "- $P(Y=0) = 1-P(Y=1)$\n",
    "- $P(X=1\\mid Y=0) = 1 - P(X=0\\mid Y=0)$\n",
    "\n",
    "Z prawa Bayesa:\n",
    "\n",
    "$$\n",
    "P(Y=1\\mid X=1) =\n",
    "$$\n",
    "\n",
    "$$\n",
    "= \\frac{P(X=1 \\mid  Y=1) P(Y=1)}{P(X=1)} =\n",
    "$$\n",
    "\n",
    "$$\n",
    "= \\frac{P(X=1 \\mid  Y=1) P(Y=1)}\n",
    "{\\sum_Y P(X=1 \\mid  Y) P(Y)} =\n",
    "$$\n",
    "\n",
    "$$\n",
    "= \\frac{P(X=1 \\mid  Y=1) P(Y=1)}\n",
    "{P(X=1 \\mid  Y=1) P(Y=1) + P(X=1 \\mid  Y=0) P(Y=0)} =\n",
    "$$\n",
    "\n",
    "$$\n",
    "= \\frac{P(X=1 \\mid  Y=1) P(Y=1)}\n",
    "{P(X=1 \\mid  Y=1) P(Y=1) + (1 - P(X=0\\mid Y=0))(1-P(Y=1))} =\n",
    "$$\n",
    "\n",
    "$$\n",
    "= \\frac{0.9 \\cdot 0.014}{0.9 \\cdot 0.014 + (1-0.03) \\cdot (1-0.014)} \\approx\n",
    "\n",
    "0.299\n",
    "$$\n"
   ]
  },
  {
   "cell_type": "code",
   "execution_count": 23,
   "id": "organizational-subscriber",
   "metadata": {
    "deletable": false,
    "nbgrader": {
     "cell_type": "code",
     "checksum": "464ce903d829a746fec68a99163c8b00",
     "grade": false,
     "grade_id": "bayes_code",
     "locked": false,
     "schema_version": 3,
     "solution": true,
     "task": false
    }
   },
   "outputs": [
    {
     "name": "stdout",
     "output_type": "stream",
     "text": [
      "0.2987197724039828\n"
     ]
    }
   ],
   "source": [
    "p_x1_y1 = 0.9\n",
    "p_y1 = 0.014\n",
    "p_x0_y0 = 0.97\n",
    "\n",
    "p_y1_x1 = p_x1_y1 * p_y1 / (p_x1_y1 * p_y1 + (1 - p_x0_y0) * (1 - p_y1))\n",
    "\n",
    "print(p_y1_x1)"
   ]
  },
  {
   "cell_type": "code",
   "execution_count": 24,
   "id": "covered-tampa",
   "metadata": {
    "deletable": false,
    "editable": false,
    "nbgrader": {
     "cell_type": "code",
     "checksum": "fb7d757b9dc9cf49a014587d2b3cc2cf",
     "grade": true,
     "grade_id": "bayes_prob",
     "locked": true,
     "points": 0.25,
     "schema_version": 3,
     "solution": false,
     "task": false
    }
   },
   "outputs": [],
   "source": [
    "# testy ukryte"
   ]
  },
  {
   "cell_type": "markdown",
   "id": "unlike-vancouver",
   "metadata": {},
   "source": [
    "### Rozkłady prawdopodobieństwa\n",
    "\n",
    "Oprócz opisywanych wcześniej zmiennych losowych dyskretnych, prawdopodobieństwa mogą dotyczyć również zmiennych ciągłych. Rozkład prawdopodobieństa zmiennych ciągłych opisany jest **funkcją gęstości** $p(x)$. Prawdopodobieństwo, że zmienna losowa $X$ przyjmuje wartości z przedziału $[a, b]$ można wyznaczyć przy pomocy równania:\n",
    "\n",
    "$$\\Pr(a \\le X \\le b) = \\int_a^b p(x) dx\\tag{8}$$\n",
    "\n",
    "Funkcja gęstości spełnia dwa kryteria:\n",
    "\n",
    "- $p(x) \\ge 0$ - prawdopodobieństwo jest nieujemne,\n",
    "- $\\int_{-\\infty}^{\\infty} p(x) dx = 1$ - całkowite prawdopodobieństwo jest równe $1$.\n",
    "\n",
    "**Dystrybuantą**, czyli funkcją skumulowanej gęstości prawdopodobieństwa nazywamy prawdopodobieństwo, że $x$ leży w przedziale $(-\\infty, z)$:\n",
    "\n",
    "$$F(z) = \\int_{-\\infty}^z p(x) dx\\tag{9}$$\n",
    "\n",
    "Dla zmiennych dyskretnych funkcja $p(x)$ jest nazywana **funkcją masy prawdopodobieństwa**.\n",
    "\n",
    "Załóżmy, że $x$ i $y$ są dwoma zmiennymi ciągłymi. Funkcja gęstości spełnia reguły:\n",
    "\n",
    "- brzegową: $p(x) = \\int p(x, y) dy$\n",
    "- łańcuchową: $p(x, y) = p(x \\mid y)p(y)$\n",
    "- Bayesa: $p(y \\mid x) = \\frac{p(x \\mid y) p(y)}{p(x)}$\n",
    "\n",
    "#### Własności rozkładu prawdopodobieństwa\n",
    "\n",
    "Podstawową własnością rozkładu jest **wartość oczekiwana**, określająca spodziewany wynik doświadczenia losowego. Dla rozkładu dyskretnego dany jest wzorem:\n",
    "\n",
    "$$\\mathbb{E}[X] = \\sum_{x\\in\\mathcal{X}} x \\cdot p(x)\\tag{10}$$\n",
    "\n",
    "natomiast dla rozkładu ciągłego definiuje się:\n",
    "\n",
    "$$\\mathbb{E}[X] = \\int_{x\\in\\mathcal{X}} x \\cdot p(x) dx\\tag{11}$$\n",
    "\n",
    "**Wariancja** to własność określająca jak bardzo wartości $x$ odchylają się od średniej (_rozpiętość rozkładu_)\n",
    "\n",
    "$$Var[X] = \\mathbb{E}[(X - \\mathbb{E}[X])^2] = \\mathbb{E}[X^2] - (\\mathbb{E}[X])^2\\tag{12}$$\n",
    "\n",
    "**Odchylenie standardowe** definiowane jest jako pierwiastek z wariancji:\n",
    "\n",
    "$$std[X] = \\sqrt{Var[X]}\\tag{13}$$\n",
    "\n",
    "Dla dwóch zmiennych losowych $X$ i $Y$, **kowariancja** określa stopień, w jakim zależą od siebie liniowo. Dana jest ona wzorem:\n",
    "\n",
    "$$cov[X, Y] = \\mathbb{E}[(X - \\mathbb{E}[X])(Y - \\mathbb{E}[Y])] = \\mathbb{E}[XY] - \\mathbb{E}[X]\\mathbb{E}[Y] \\in [0, \\infty)\\tag{14}$$\n",
    "\n",
    "**Korelacja** jest znormalizowana postacią kowariancji:\n",
    "\n",
    "$$corr[X, Y] = \\frac{cov[X, Y]}{\\sqrt{Var[X]Var[Y]}} \\in [-1, 1]\\tag{15}$$\n",
    "\n",
    "Dla liniowo zależnych zmiennych losowych $X$ i $Y$ $|corr[X, Y]| = 1$. Gdy zmienne są od siebie niezależne, tzn. $\\Pr(X,Y) = \\Pr(X)\\Pr(Y)$, wtedy $corr[X, Y] = 0$.\n"
   ]
  },
  {
   "cell_type": "markdown",
   "id": "generic-activation",
   "metadata": {},
   "source": [
    "## Pyro\n",
    "\n",
    "[**Pyro**](https://pyro.ai) to probabilistyczny język programowania udostępniony przez Uber AI Labs. Zbudowany jest on na frameworku PyTorch, łącząc modelowanie modeli głębokich z modelowaniem bayesowskim.\n",
    "\n",
    "Probabilistyczny język programowania to język zaprojektowany do budowy oraz wnioskowania w modelach probabilistycznych. Zagadnienie to będzie omawiane w ramach kolejnych laboratoriów - tutaj skupimy się na podstawowych prymitywach Pyro.\n",
    "\n",
    "Podobnie jak PyTorch, Pyro pozwala na wykorzystanie dowolnych instrukcji Pythona, takich jak pętle, rekursja, funkcje wysokopoziomowe itp., dzięki czemu można w nim zareprezentować dowolny obliczalny rozkład prawdopodobieństwa.\n",
    "\n",
    "Podstawowym elementem programów probabilistycznych są _funkcje stochastyczne_. W Pyro są to pythonowe _callable_ (obiekty implementujące metodę `__call__()`) lub moduły PyTorcha `nn.Module`, zawierające deterministyczny kod oraz podstawowe funkcje stochastyczne, wywołujące generator liczb losowych. W ramach tego laboratorium rozważać będziemy te pierwsze.\n",
    "\n",
    "### Podstawowe funkcje stochastyczne w Pyro\n",
    "\n",
    "Pyro wykorzystuje funkcje stochastyczne (rozkłady prawdopodobieństwa) będące wrapperem `torch.distribution`. Znajdują się one w module `pyro.distributions` ([dokumentacja](http://docs.pyro.ai/en/stable/distributions.html#distributions)). Aby próbkować wartości z tych rozkładów można używać metod z biblioteki `torch`: `.rsample()` oraz `.sample()`, jednak w przypadku Pyro lepiej wykorzystać funkcję `pyro.sample`, będącą jedną z kluczowych elementów biblioteki. Jej użycie przedstawiono w kolejnej komórce.\n",
    "\n",
    "```python\n",
    "import pyro.distributions as dist\n",
    "\n",
    "\n",
    "distribution = dist.Normal(0, 1)\n",
    "\n",
    "# te dwa wywołania są równoważne\n",
    "torch_sampled = distribution.sample()\n",
    "# pyro.sample pozwala na tworzenie programu Pyro\n",
    "pyro_sampled = pyro.sample(\"my_sample\", distribution)\n",
    "```\n"
   ]
  },
  {
   "cell_type": "code",
   "execution_count": null,
   "id": "remarkable-england",
   "metadata": {},
   "outputs": [],
   "source": [
    "# przykład użycia pyro.distributions dla rozkładu kategorycznego i normalnego\n",
    "from IPython.display import display, Math\n",
    "import pyro\n",
    "import pyro.distributions as dist\n",
    "import torch\n",
    "\n",
    "\n",
    "# rozkład kategoryczny\n",
    "probas = [0.2, 0.15, 0.33, 0.26, 0.06]  # prawdopodobieństwa kategorii\n",
    "categorical = dist.Categorical(torch.tensor(probas))  # rozkład kategoryczny\n",
    "display(Math(f\"x \\sim Cat({probas})\"))\n",
    "\n",
    "x = pyro.sample(  # próbkowanie z rozkładu\n",
    "    \"category\",  # nazwa zmiennej przechowywanej przez pyro\n",
    "    categorical,  # podstawowa funkcja stochastyczna\n",
    ")\n",
    "x_log_prob = categorical.log_prob(x)  # prawdopodobieństwo zaobserwowania\n",
    "# tej wartości przy próbkowaniu\n",
    "# z rozkładu kategorycznego\n",
    "display(Math(f\"\\Pr(x = {x}) = {torch.exp(x_log_prob).item():.3f})\"))\n",
    "\n",
    "\n",
    "# rozkład normalny\n",
    "loc = 0.0  # wartość oczekiwana 0.\n",
    "scale = 1.0  # odchylenie standardowe 1.\n",
    "normal = dist.Normal(loc, scale)  # rozkład normalny\n",
    "display(Math(f\"y \\sim \\mathcal{{N}}(\\mu={loc}, \\sigma={scale})\"))\n",
    "\n",
    "y = pyro.sample(\"normal\", normal)  # próbkowanie z rozkładu\n",
    "y_log_prob = normal.log_prob(y)  # prawdopodobieństwo zaobserwowania\n",
    "# tej wartości przy próbkowaniu\n",
    "# z rozkładu normalnego\n",
    "display(Math(f\"\\Pr(y = {y:.3f}) = {torch.exp(y_log_prob).item():.3f})\"))"
   ]
  },
  {
   "cell_type": "markdown",
   "id": "tropical-superintendent",
   "metadata": {},
   "source": [
    "### Zadanie 1.5 (0,5 p.)\n",
    "\n",
    "Wybierz jeden ciągły rozkład prawdopodobieństwa spośród dostępnych w `pyro.distributions` i omówionych na wykładzie. Przygotuj animację, która pokaże jak z kolejnymi próbkowaniami rozkładu zmieniać się będzie rozkład wartości. Stwórz histogram wystąpień.\n",
    "\n",
    "Podpowiedź: próbkowane wartości zbieraj w liście i generuj wykres dla każdego kroku. Skorzystaj z przygotowanej funkcji animowania.\n"
   ]
  },
  {
   "cell_type": "code",
   "execution_count": null,
   "id": "liberal-village",
   "metadata": {},
   "outputs": [],
   "source": [
    "## przykład tworzenia animacji z użyciem matplotlib.animation\n",
    "%matplotlib inline\n",
    "import matplotlib.pyplot as plt\n",
    "import numpy as np\n",
    "from IPython.display import HTML\n",
    "from matplotlib import animation, rc\n",
    "\n",
    "\n",
    "def animate():\n",
    "    # przygotuj wykres do rysowania animacji\n",
    "    fig, ax = plt.subplots()\n",
    "\n",
    "    ax.set_xlim(( 0, 2))\n",
    "    ax.set_ylim((-2, 2))\n",
    "\n",
    "    line, = ax.plot([], [], lw=2)\n",
    "    \n",
    "    # funkcja animacji, wywoływana sekwencyjnie\n",
    "    def sin(i):\n",
    "        x = np.linspace(0, 2, 1000)\n",
    "        y = np.sin(2 * np.pi * (x - 0.01 * i))\n",
    "        line.set_data(x, y)\n",
    "        return (line,)\n",
    "\n",
    "    # funkcja inicjalizacji, rysująca tło każdej klatki\n",
    "    def init():\n",
    "        line.set_data([], [])\n",
    "        return (line,)\n",
    "    \n",
    "    # wywołanie animacji; blit=True  powoduje rysowanie tylko zmian\n",
    "    anim = animation.FuncAnimation(\n",
    "        fig, sin, init_func=init, frames=100, interval=20, blit=True\n",
    "    )\n",
    "    \n",
    "    return anim.to_jshtml()\n",
    "\n",
    "HTML(animate())\n"
   ]
  },
  {
   "cell_type": "code",
   "execution_count": null,
   "id": "overall-split",
   "metadata": {
    "deletable": false,
    "nbgrader": {
     "cell_type": "code",
     "checksum": "4d12a24162a82539249a59fc64d69914",
     "grade": true,
     "grade_id": "animate_distribution",
     "locked": false,
     "points": 0.5,
     "schema_version": 3,
     "solution": true,
     "task": false
    }
   },
   "outputs": [],
   "source": [
    "def animate_distribution():\n",
    "    # TU WPISZ KOD\n",
    "    raise NotImplementedError()\n",
    "\n",
    "\n",
    "HTML(animate_distribution())"
   ]
  },
  {
   "cell_type": "markdown",
   "id": "medieval-stretch",
   "metadata": {},
   "source": [
    "Tak jak wspomniano wcześniej, w Pyro funkcje stochastyczne mogą zawierać zarówno odwołania do podstawowych funkcji stochastycznych `pyro.distributions`, jak i deterministyczny kod pythonowy, co pozwala na modelowanie różnych doświadczeń losowych. Przykładowo, w poniższej komórce znajduje się model doświadczenia losowego, przedstawionego na początku notatnika.\n"
   ]
  },
  {
   "cell_type": "code",
   "execution_count": null,
   "id": "floating-distribution",
   "metadata": {},
   "outputs": [],
   "source": [
    "# doświadczenie losowe: wylosuj pudełko, a następnie z niego wylosuj owoc\n",
    "def get_fruit(box_proba=0.45, red_box_proba=0.4, blue_box_proba=0.7):\n",
    "    boxes = [\"r\", \"b\"]\n",
    "    fruit = [\"a\", \"o\"]\n",
    "    box_idx = pyro.sample(\"box\", dist.Bernoulli(box_proba))\n",
    "    if box_idx == 0:\n",
    "        fruit_idx = pyro.sample(\"fruit\", dist.Bernoulli(red_box_proba))\n",
    "    else:\n",
    "        fruit_idx = pyro.sample(\"fruit\", dist.Bernoulli(blue_box_proba))\n",
    "    return boxes[int(box_idx)], fruit[int(fruit_idx)]\n",
    "\n",
    "\n",
    "for _ in range(5):\n",
    "    box, fruit = get_fruit()\n",
    "    print(f\"Wylosowano '{fruit}' z pudełka '{box}'\")"
   ]
  },
  {
   "cell_type": "markdown",
   "id": "analyzed-communication",
   "metadata": {},
   "source": [
    "Dzięki temu możliwe jest stworzenie symulatora, który powtórzy doświadczenie dostatecznie dużą liczbę razy w celu numerycznego przybliżenia prawdopodobieństw, które wcześniej wyznaczyliśmy obliczając je ręcznie.\n"
   ]
  },
  {
   "cell_type": "code",
   "execution_count": null,
   "id": "median-singing",
   "metadata": {},
   "outputs": [],
   "source": [
    "# powtórz doświadczenie dużą liczbę razy i aproksymuj prawdopodobieństwa\n",
    "total = 10_000\n",
    "n_boxes = {\"r\": 0, \"b\": 0}\n",
    "n_fruit = {\"a\": 0, \"o\": 0}\n",
    "for _ in range(total):\n",
    "    box, fruit = get_fruit()\n",
    "    n_boxes[box] += 1\n",
    "    n_fruit[fruit] += 1\n",
    "\n",
    "\n",
    "display(Math(f\"$$\\Pr(B=r)\\simeq{n_boxes['r'] / total:.3f}$$\"))\n",
    "display(Math(f\"$$\\Pr(B=b)\\simeq{n_boxes['b'] / total:.3f}$$\"))\n",
    "display(Math(f\"$$\\Pr(F=a)\\simeq{n_fruit['a'] / total:.3f}$$\"))\n",
    "display(Math(f\"$$\\Pr(F=o)\\simeq{n_fruit['o'] / total:.3f}$$\"))\n",
    "print(\"itd.\")"
   ]
  },
  {
   "cell_type": "markdown",
   "id": "arabic-tanzania",
   "metadata": {},
   "source": [
    "### Zadanie 1.6 (1,5 p.)\n",
    "\n",
    "Rozważmy doświadczenie losowe: student aplikował na 9 kierunków. Szanse przyjęcia dla każdego z kierunków są równe i wynoszą 1%. Niestety, student nie został przyjęty na żaden z kierunków. Jakie jest prawdopodobieństwo takiej sytuacji? Wybierz odpowiedni rozkład prawdopodobieństwa i oblicz prawdopodobieństwo ręcznie, wpisując tok rozumowania do następnej komórki oraz przypisując wynik do zmiennej `p_reject`. Zamodeluj doświadczenie w formie symulatora uzupełniając funkcję `attempt_join_university`, która wykona doświadczenie losowe, oraz funkcję `simulate_join_university`, która wykona to doświadczenie zadaną liczbę razy i zwróci prawdopodobieństwo opisywanego zdarzenia.\n"
   ]
  },
  {
   "cell_type": "markdown",
   "id": "third-cloud",
   "metadata": {
    "deletable": false,
    "nbgrader": {
     "cell_type": "markdown",
     "checksum": "f8352d448aa50678c0622a4437e3e41c",
     "grade": true,
     "grade_id": "admission_manual",
     "locked": false,
     "points": 0.25,
     "schema_version": 3,
     "solution": true,
     "task": false
    }
   },
   "source": [
    "TU WPISZ ODPOWIEDŹ\n"
   ]
  },
  {
   "cell_type": "code",
   "execution_count": null,
   "id": "prepared-manor",
   "metadata": {
    "deletable": false,
    "nbgrader": {
     "cell_type": "code",
     "checksum": "245bd20dce94569d355443cbcd294af6",
     "grade": false,
     "grade_id": "admission_manual_value",
     "locked": false,
     "schema_version": 3,
     "solution": true,
     "task": false
    }
   },
   "outputs": [],
   "source": [
    "p_reject = 0.0\n",
    "\n",
    "# TU WPISZ KOD\n",
    "raise NotImplementedError()"
   ]
  },
  {
   "cell_type": "code",
   "execution_count": null,
   "id": "innovative-butter",
   "metadata": {
    "deletable": false,
    "editable": false,
    "nbgrader": {
     "cell_type": "code",
     "checksum": "c6005e2332e81fbc69c67a991d61d807",
     "grade": true,
     "grade_id": "admission_manual_tests",
     "locked": true,
     "points": 0.25,
     "schema_version": 3,
     "solution": false,
     "task": false
    }
   },
   "outputs": [],
   "source": [
    "display(Math(f\"$$\\Pr(reject)={p_reject:.5f}$$\"))\n",
    "\n",
    "# testy ukryte"
   ]
  },
  {
   "cell_type": "code",
   "execution_count": null,
   "id": "prompt-freeware",
   "metadata": {
    "deletable": false,
    "nbgrader": {
     "cell_type": "code",
     "checksum": "340174da1708c3561df3fab5804e6c16",
     "grade": false,
     "grade_id": "admission_code",
     "locked": false,
     "schema_version": 3,
     "solution": true,
     "task": false
    }
   },
   "outputs": [],
   "source": [
    "def attempt_join_university(n_trials=9, p_admission=0.01):\n",
    "    \"\"\"Funkcja stochastyczna modelująca doświadczenie losowe.\"\"\"\n",
    "    # TU WPISZ KOD\n",
    "    raise NotImplementedError()\n",
    "\n",
    "\n",
    "def simulate_join_university(n_simulations=10_000):\n",
    "    \"\"\"Wykonaj doświadczenie losowe określoną liczbę.\n",
    "    Zwraca przybliżone prawdopodobieństwo nie przyjęcia na żaden z kierunków\n",
    "    przy zadanej liczbie prób.\n",
    "    \"\"\"\n",
    "    # TU WPISZ KOD\n",
    "    raise NotImplementedError()"
   ]
  },
  {
   "cell_type": "code",
   "execution_count": null,
   "id": "super-momentum",
   "metadata": {
    "deletable": false,
    "editable": false,
    "nbgrader": {
     "cell_type": "code",
     "checksum": "040dab30f376618b5e61ef92f1cf21e3",
     "grade": true,
     "grade_id": "admission_code_tests",
     "locked": true,
     "points": 1,
     "schema_version": 3,
     "solution": false,
     "task": false
    }
   },
   "outputs": [],
   "source": [
    "display(Math(f\"$$\\Pr(reject)\\simeq{simulate_join_university():.5f}$$\"))\n",
    "\n",
    "# testy ukryte"
   ]
  },
  {
   "cell_type": "markdown",
   "id": "isolated-costs",
   "metadata": {},
   "source": [
    "### Zadanie 1.7 (1,5 p.)\n",
    "\n",
    "Przygotuj symulator dla zadania 1.4. Sprawdź, jak czułość i swoistość testu oraz prawdopodobieństwo choroby wpływają na osiągany wynik. Wykonaj wizualizację zależności prawdopodobieństwa bycia chorym przy pozytywnym wyniku testu od ww. parametrów.\n"
   ]
  },
  {
   "cell_type": "code",
   "execution_count": null,
   "id": "combined-drove",
   "metadata": {
    "deletable": false,
    "nbgrader": {
     "cell_type": "code",
     "checksum": "97180f7c350ab4a63047f7f1b92f1897",
     "grade": true,
     "grade_id": "illness_numeric",
     "locked": false,
     "points": 1.5,
     "schema_version": 3,
     "solution": true,
     "task": false
    }
   },
   "outputs": [],
   "source": [
    "# TU WPISZ KOD\n",
    "raise NotImplementedError()"
   ]
  }
 ],
 "metadata": {
  "kernelspec": {
   "display_name": "Python 3",
   "language": "python",
   "name": "python3"
  },
  "language_info": {
   "codemirror_mode": {
    "name": "ipython",
    "version": 3
   },
   "file_extension": ".py",
   "mimetype": "text/x-python",
   "name": "python",
   "nbconvert_exporter": "python",
   "pygments_lexer": "ipython3",
   "version": "3.11.6"
  }
 },
 "nbformat": 4,
 "nbformat_minor": 5
}
